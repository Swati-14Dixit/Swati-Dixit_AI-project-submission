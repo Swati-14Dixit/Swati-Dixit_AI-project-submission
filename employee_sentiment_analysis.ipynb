{
 "cells": [
  {
   "cell_type": "markdown",
   "metadata": {},
   "source": [
    "# Cell 1: imports and basic setup"
   ]
  },
  {
   "cell_type": "code",
   "execution_count": 13,
   "metadata": {},
   "outputs": [
    {
     "name": "stderr",
     "output_type": "stream",
     "text": [
      "[nltk_data] Downloading package vader_lexicon to\n",
      "[nltk_data]     /Users/swatidixit/nltk_data...\n",
      "[nltk_data]   Package vader_lexicon is already up-to-date!\n"
     ]
    }
   ],
   "source": [
    "import os\n",
    "import pandas as pd\n",
    "import numpy as np\n",
    "import matplotlib.pyplot as plt\n",
    "import seaborn as sns\n",
    "\n",
    "from sklearn.model_selection import train_test_split\n",
    "from sklearn.linear_model import LinearRegression\n",
    "from sklearn.metrics import mean_squared_error, r2_score\n",
    "\n",
    "import joblib\n",
    "\n",
    "# sentiment tool\n",
    "import nltk\n",
    "nltk.download('vader_lexicon')\n",
    "\n",
    "from nltk.sentiment.vader import SentimentIntensityAnalyzer\n",
    "sid = SentimentIntensityAnalyzer()\n",
    "\n",
    "sns.set(style=\"whitegrid\")\n"
   ]
  },
  {
   "cell_type": "markdown",
   "metadata": {},
   "source": [
    "load data (auto-detect csv or xlsx)"
   ]
  },
  {
   "cell_type": "code",
   "execution_count": 14,
   "metadata": {},
   "outputs": [
    {
     "name": "stdout",
     "output_type": "stream",
     "text": [
      "Loading: test.xlsx\n",
      "Rows,cols: (2191, 4)\n"
     ]
    },
    {
     "data": {
      "text/html": [
       "<div>\n",
       "<style scoped>\n",
       "    .dataframe tbody tr th:only-of-type {\n",
       "        vertical-align: middle;\n",
       "    }\n",
       "\n",
       "    .dataframe tbody tr th {\n",
       "        vertical-align: top;\n",
       "    }\n",
       "\n",
       "    .dataframe thead th {\n",
       "        text-align: right;\n",
       "    }\n",
       "</style>\n",
       "<table border=\"1\" class=\"dataframe\">\n",
       "  <thead>\n",
       "    <tr style=\"text-align: right;\">\n",
       "      <th></th>\n",
       "      <th>Subject</th>\n",
       "      <th>body</th>\n",
       "      <th>date</th>\n",
       "      <th>from</th>\n",
       "    </tr>\n",
       "  </thead>\n",
       "  <tbody>\n",
       "    <tr>\n",
       "      <th>0</th>\n",
       "      <td>EnronOptions Update!</td>\n",
       "      <td>EnronOptions Announcement\\n\\n\\nWe have updated...</td>\n",
       "      <td>2010-05-10</td>\n",
       "      <td>sally.beck@enron.com</td>\n",
       "    </tr>\n",
       "    <tr>\n",
       "      <th>1</th>\n",
       "      <td>(No Subject)</td>\n",
       "      <td>Marc,\\n\\nUnfortunately, today is not going to ...</td>\n",
       "      <td>2010-07-29</td>\n",
       "      <td>eric.bass@enron.com</td>\n",
       "    </tr>\n",
       "    <tr>\n",
       "      <th>2</th>\n",
       "      <td>Phone Screen  Interview - Shannon L. Burnham</td>\n",
       "      <td>When: Wednesday, June 06, 2001 10:00 AM-11:00 ...</td>\n",
       "      <td>2011-07-25</td>\n",
       "      <td>sally.beck@enron.com</td>\n",
       "    </tr>\n",
       "    <tr>\n",
       "      <th>3</th>\n",
       "      <td>RE: My new work email</td>\n",
       "      <td>we were thinking papasitos (we can meet somewh...</td>\n",
       "      <td>2010-03-25</td>\n",
       "      <td>johnny.palmer@enron.com</td>\n",
       "    </tr>\n",
       "    <tr>\n",
       "      <th>4</th>\n",
       "      <td>Bet</td>\n",
       "      <td>Since you never gave me the $20 for the last t...</td>\n",
       "      <td>2011-05-21</td>\n",
       "      <td>lydia.delgado@enron.com</td>\n",
       "    </tr>\n",
       "  </tbody>\n",
       "</table>\n",
       "</div>"
      ],
      "text/plain": [
       "                                        Subject  \\\n",
       "0                          EnronOptions Update!   \n",
       "1                                  (No Subject)   \n",
       "2  Phone Screen  Interview - Shannon L. Burnham   \n",
       "3                         RE: My new work email   \n",
       "4                                           Bet   \n",
       "\n",
       "                                                body       date  \\\n",
       "0  EnronOptions Announcement\\n\\n\\nWe have updated... 2010-05-10   \n",
       "1  Marc,\\n\\nUnfortunately, today is not going to ... 2010-07-29   \n",
       "2  When: Wednesday, June 06, 2001 10:00 AM-11:00 ... 2011-07-25   \n",
       "3  we were thinking papasitos (we can meet somewh... 2010-03-25   \n",
       "4  Since you never gave me the $20 for the last t... 2011-05-21   \n",
       "\n",
       "                      from  \n",
       "0     sally.beck@enron.com  \n",
       "1      eric.bass@enron.com  \n",
       "2     sally.beck@enron.com  \n",
       "3  johnny.palmer@enron.com  \n",
       "4  lydia.delgado@enron.com  "
      ]
     },
     "execution_count": 14,
     "metadata": {},
     "output_type": "execute_result"
    }
   ],
   "source": [
    "for fname in ['test.csv', 'test.xlsx', 'data/test.csv', 'data/test.xlsx']:\n",
    "    if os.path.exists(fname):\n",
    "        file_path = fname\n",
    "        break\n",
    "else:\n",
    "    raise FileNotFoundError(\"Put test.csv or test.xlsx in the project folder and re-run.\")\n",
    "\n",
    "print(\"Loading:\", file_path)\n",
    "if file_path.endswith('.csv'):\n",
    "    df = pd.read_csv(file_path)\n",
    "else:\n",
    "    df = pd.read_excel(file_path)\n",
    "\n",
    "print(\"Rows,cols:\", df.shape)\n",
    "df.head(5)"
   ]
  },
  {
   "cell_type": "markdown",
   "metadata": {},
   "source": [
    "Detect important column names (date / text / employee)"
   ]
  },
  {
   "cell_type": "code",
   "execution_count": 15,
   "metadata": {},
   "outputs": [
    {
     "name": "stdout",
     "output_type": "stream",
     "text": [
      "Detected date columns: ['date']\n",
      "Detected text columns: ['body']\n",
      "Detected employee columns: ['from']\n",
      "Using date col: date text col: body employee col: from\n"
     ]
    }
   ],
   "source": [
    "# Cell 3: auto-detect likely date / text / employee columns\n",
    "cols = df.columns.tolist()\n",
    "date_cols = [c for c in cols if 'date' in c.lower() or 'time' in c.lower()]\n",
    "text_cols = [c for c in cols if any(k in c.lower() for k in ['msg','message','text','body','content'])]\n",
    "emp_cols  = [c for c in cols if any(k in c.lower() for k in ['employee','emp','sender','from','userid','name'])]\n",
    "\n",
    "print(\"Detected date columns:\", date_cols)\n",
    "print(\"Detected text columns:\", text_cols)\n",
    "print(\"Detected employee columns:\", emp_cols)\n",
    "\n",
    "# pick defaults (adjust manually if needed)\n",
    "date_col  = date_cols[0]  if date_cols else input(\"Enter the date column name: \")\n",
    "text_col  = text_cols[0]  if text_cols else input(\"Enter the text/message column name: \")\n",
    "employee_col = emp_cols[0] if emp_cols else input(\"Enter the employee id/name column: \")\n",
    "\n",
    "# Ensure types\n",
    "df[date_col] = pd.to_datetime(df[date_col], errors='coerce')\n",
    "df[text_col] = df[text_col].astype(str)\n",
    "\n",
    "print(\"Using date col:\", date_col, \"text col:\", text_col, \"employee col:\", employee_col)\n"
   ]
  },
  {
   "cell_type": "markdown",
   "metadata": {},
   "source": [
    "Sentiment labeling (VADER, reproducible thresholds)"
   ]
  },
  {
   "cell_type": "code",
   "execution_count": 17,
   "metadata": {},
   "outputs": [
    {
     "name": "stdout",
     "output_type": "stream",
     "text": [
      "Saved labeled_data.csv — sample:\n"
     ]
    },
    {
     "data": {
      "text/html": [
       "<div>\n",
       "<style scoped>\n",
       "    .dataframe tbody tr th:only-of-type {\n",
       "        vertical-align: middle;\n",
       "    }\n",
       "\n",
       "    .dataframe tbody tr th {\n",
       "        vertical-align: top;\n",
       "    }\n",
       "\n",
       "    .dataframe thead th {\n",
       "        text-align: right;\n",
       "    }\n",
       "</style>\n",
       "<table border=\"1\" class=\"dataframe\">\n",
       "  <thead>\n",
       "    <tr style=\"text-align: right;\">\n",
       "      <th></th>\n",
       "      <th>from</th>\n",
       "      <th>date</th>\n",
       "      <th>body</th>\n",
       "      <th>sentiment</th>\n",
       "    </tr>\n",
       "  </thead>\n",
       "  <tbody>\n",
       "    <tr>\n",
       "      <th>0</th>\n",
       "      <td>sally.beck@enron.com</td>\n",
       "      <td>2010-05-10</td>\n",
       "      <td>EnronOptions Announcement\\n\\n\\nWe have updated...</td>\n",
       "      <td>Positive</td>\n",
       "    </tr>\n",
       "    <tr>\n",
       "      <th>1</th>\n",
       "      <td>eric.bass@enron.com</td>\n",
       "      <td>2010-07-29</td>\n",
       "      <td>Marc,\\n\\nUnfortunately, today is not going to ...</td>\n",
       "      <td>Positive</td>\n",
       "    </tr>\n",
       "    <tr>\n",
       "      <th>2</th>\n",
       "      <td>sally.beck@enron.com</td>\n",
       "      <td>2011-07-25</td>\n",
       "      <td>When: Wednesday, June 06, 2001 10:00 AM-11:00 ...</td>\n",
       "      <td>Neutral</td>\n",
       "    </tr>\n",
       "    <tr>\n",
       "      <th>3</th>\n",
       "      <td>johnny.palmer@enron.com</td>\n",
       "      <td>2010-03-25</td>\n",
       "      <td>we were thinking papasitos (we can meet somewh...</td>\n",
       "      <td>Neutral</td>\n",
       "    </tr>\n",
       "    <tr>\n",
       "      <th>4</th>\n",
       "      <td>lydia.delgado@enron.com</td>\n",
       "      <td>2011-05-21</td>\n",
       "      <td>Since you never gave me the $20 for the last t...</td>\n",
       "      <td>Positive</td>\n",
       "    </tr>\n",
       "    <tr>\n",
       "      <th>5</th>\n",
       "      <td>eric.bass@enron.com</td>\n",
       "      <td>2011-10-23</td>\n",
       "      <td>sure, just call me the bank that delivers.\\n \\...</td>\n",
       "      <td>Positive</td>\n",
       "    </tr>\n",
       "  </tbody>\n",
       "</table>\n",
       "</div>"
      ],
      "text/plain": [
       "                      from       date  \\\n",
       "0     sally.beck@enron.com 2010-05-10   \n",
       "1      eric.bass@enron.com 2010-07-29   \n",
       "2     sally.beck@enron.com 2011-07-25   \n",
       "3  johnny.palmer@enron.com 2010-03-25   \n",
       "4  lydia.delgado@enron.com 2011-05-21   \n",
       "5      eric.bass@enron.com 2011-10-23   \n",
       "\n",
       "                                                body sentiment  \n",
       "0  EnronOptions Announcement\\n\\n\\nWe have updated...  Positive  \n",
       "1  Marc,\\n\\nUnfortunately, today is not going to ...  Positive  \n",
       "2  When: Wednesday, June 06, 2001 10:00 AM-11:00 ...   Neutral  \n",
       "3  we were thinking papasitos (we can meet somewh...   Neutral  \n",
       "4  Since you never gave me the $20 for the last t...  Positive  \n",
       "5  sure, just call me the bank that delivers.\\n \\...  Positive  "
      ]
     },
     "execution_count": 17,
     "metadata": {},
     "output_type": "execute_result"
    }
   ],
   "source": [
    "# Cell 4: sentiment labeling using VADER\n",
    "# Thresholds: compound >= 0.05 -> Positive; <= -0.05 -> Negative; else Neutral\n",
    "def label_sentiment_vader(text):\n",
    "    s = sid.polarity_scores(str(text))['compound']\n",
    "    if s >= 0.05:\n",
    "        return 'Positive'\n",
    "    elif s <= -0.05:\n",
    "        return 'Negative'\n",
    "    else:\n",
    "        return 'Neutral'\n",
    "\n",
    "df['sentiment'] = df[text_col].apply(label_sentiment_vader)\n",
    "df['score'] = df['sentiment'].map({'Positive':1, 'Negative':-1, 'Neutral':0})\n",
    "df['msg_len'] = df[text_col].str.len()\n",
    "\n",
    "# Save labeled file\n",
    "df.to_csv('labeled_data.csv', index=False)\n",
    "print(\"Saved labeled_data.csv — sample:\")\n",
    "df[[employee_col, date_col, text_col, 'sentiment']].head(6)\n"
   ]
  },
  {
   "cell_type": "markdown",
   "metadata": {},
   "source": [
    "Cell 5 — EDA (counts, basic visuals)"
   ]
  },
  {
   "cell_type": "code",
   "execution_count": 18,
   "metadata": {},
   "outputs": [
    {
     "name": "stdout",
     "output_type": "stream",
     "text": [
      "sentiment\n",
      "Positive    1528\n",
      "Neutral      511\n",
      "Negative     152\n",
      "Name: count, dtype: int64\n"
     ]
    },
    {
     "data": {
      "text/plain": [
       "sentiment\n",
       "Positive    0.697398\n",
       "Neutral     0.233227\n",
       "Negative    0.069375\n",
       "Name: proportion, dtype: float64"
      ]
     },
     "metadata": {},
     "output_type": "display_data"
    },
    {
     "data": {
      "image/png": "[encoded data removed]",
      "text/plain": [
       "<Figure size 600x400 with 1 Axes>"
      ]
     },
     "metadata": {},
     "output_type": "display_data"
    },
    {
     "data": {
      "image/png": "[encoded data removed]",
      "text/plain": [
       "<Figure size 800x400 with 1 Axes>"
      ]
     },
     "metadata": {},
     "output_type": "display_data"
    }
   ],
   "source": [
    "# Cell 5: EDA basics\n",
    "import matplotlib.ticker as ticker\n",
    "\n",
    "# 1) value counts\n",
    "print(df['sentiment'].value_counts())\n",
    "display(df['sentiment'].value_counts(normalize=True))\n",
    "\n",
    "# 2) sentiment distribution plot\n",
    "plt.figure(figsize=(6,4))\n",
    "sns.countplot(x='sentiment', data=df, order=['Positive','Neutral','Negative'])\n",
    "plt.title('Sentiment distribution')\n",
    "plt.savefig('visualizations/sentiment_distribution.png', bbox_inches='tight')\n",
    "plt.show()\n",
    "\n",
    "# 3) message length distribution\n",
    "plt.figure(figsize=(8,4))\n",
    "sns.histplot(df['msg_len'].dropna(), kde=True)\n",
    "plt.title('Message length distribution')\n",
    "plt.savefig('visualizations/message_length_hist.png', bbox_inches='tight')\n",
    "plt.show()\n"
   ]
  },
  {
   "cell_type": "markdown",
   "metadata": {},
   "source": [
    "Cell 6 — Monthly sentiment scoring (per employee)"
   ]
  },
  {
   "cell_type": "code",
   "execution_count": 19,
   "metadata": {},
   "outputs": [
    {
     "data": {
      "text/html": [
       "<div>\n",
       "<style scoped>\n",
       "    .dataframe tbody tr th:only-of-type {\n",
       "        vertical-align: middle;\n",
       "    }\n",
       "\n",
       "    .dataframe tbody tr th {\n",
       "        vertical-align: top;\n",
       "    }\n",
       "\n",
       "    .dataframe thead th {\n",
       "        text-align: right;\n",
       "    }\n",
       "</style>\n",
       "<table border=\"1\" class=\"dataframe\">\n",
       "  <thead>\n",
       "    <tr style=\"text-align: right;\">\n",
       "      <th></th>\n",
       "      <th>from</th>\n",
       "      <th>month</th>\n",
       "      <th>score</th>\n",
       "      <th>message_count</th>\n",
       "      <th>avg_len</th>\n",
       "      <th>pos_count</th>\n",
       "      <th>neg_count</th>\n",
       "      <th>neutral_count</th>\n",
       "    </tr>\n",
       "  </thead>\n",
       "  <tbody>\n",
       "    <tr>\n",
       "      <th>0</th>\n",
       "      <td>bobette.riner@ipgdirect.com</td>\n",
       "      <td>2010-01</td>\n",
       "      <td>1</td>\n",
       "      <td>2</td>\n",
       "      <td>115.000000</td>\n",
       "      <td>1</td>\n",
       "      <td>0</td>\n",
       "      <td>1</td>\n",
       "    </tr>\n",
       "    <tr>\n",
       "      <th>1</th>\n",
       "      <td>bobette.riner@ipgdirect.com</td>\n",
       "      <td>2010-02</td>\n",
       "      <td>7</td>\n",
       "      <td>14</td>\n",
       "      <td>295.714286</td>\n",
       "      <td>8</td>\n",
       "      <td>1</td>\n",
       "      <td>5</td>\n",
       "    </tr>\n",
       "    <tr>\n",
       "      <th>2</th>\n",
       "      <td>bobette.riner@ipgdirect.com</td>\n",
       "      <td>2010-03</td>\n",
       "      <td>6</td>\n",
       "      <td>11</td>\n",
       "      <td>286.181818</td>\n",
       "      <td>7</td>\n",
       "      <td>1</td>\n",
       "      <td>3</td>\n",
       "    </tr>\n",
       "    <tr>\n",
       "      <th>3</th>\n",
       "      <td>bobette.riner@ipgdirect.com</td>\n",
       "      <td>2010-04</td>\n",
       "      <td>3</td>\n",
       "      <td>6</td>\n",
       "      <td>226.500000</td>\n",
       "      <td>3</td>\n",
       "      <td>0</td>\n",
       "      <td>3</td>\n",
       "    </tr>\n",
       "    <tr>\n",
       "      <th>4</th>\n",
       "      <td>bobette.riner@ipgdirect.com</td>\n",
       "      <td>2010-05</td>\n",
       "      <td>2</td>\n",
       "      <td>4</td>\n",
       "      <td>172.250000</td>\n",
       "      <td>2</td>\n",
       "      <td>0</td>\n",
       "      <td>2</td>\n",
       "    </tr>\n",
       "  </tbody>\n",
       "</table>\n",
       "</div>"
      ],
      "text/plain": [
       "                          from    month  score  message_count     avg_len  \\\n",
       "0  bobette.riner@ipgdirect.com  2010-01      1              2  115.000000   \n",
       "1  bobette.riner@ipgdirect.com  2010-02      7             14  295.714286   \n",
       "2  bobette.riner@ipgdirect.com  2010-03      6             11  286.181818   \n",
       "3  bobette.riner@ipgdirect.com  2010-04      3              6  226.500000   \n",
       "4  bobette.riner@ipgdirect.com  2010-05      2              4  172.250000   \n",
       "\n",
       "   pos_count  neg_count  neutral_count  \n",
       "0          1          0              1  \n",
       "1          8          1              5  \n",
       "2          7          1              3  \n",
       "3          3          0              3  \n",
       "4          2          0              2  "
      ]
     },
     "execution_count": 19,
     "metadata": {},
     "output_type": "execute_result"
    }
   ],
   "source": [
    "# Cell 6: Monthly scoring per employee\n",
    "df['month'] = df[date_col].dt.to_period('M').astype(str)  # e.g. \"2025-08\"\n",
    "monthly_emp = df.groupby([employee_col, 'month']).agg(\n",
    "    score=('score','sum'),\n",
    "    message_count=('score','count'),\n",
    "    avg_len=('msg_len','mean'),\n",
    "    pos_count=('sentiment', lambda s: (s=='Positive').sum()),\n",
    "    neg_count=('sentiment', lambda s: (s=='Negative').sum()),\n",
    "    neutral_count=('sentiment', lambda s: (s=='Neutral').sum())\n",
    ").reset_index()\n",
    "\n",
    "monthly_emp.to_csv('monthly_employee_scores.csv', index=False)\n",
    "monthly_emp.head()\n"
   ]
  },
  {
   "cell_type": "markdown",
   "metadata": {},
   "source": [
    "Cell 7 — Employee ranking (top 3 positive & top 3 negative per month)"
   ]
  },
  {
   "cell_type": "code",
   "execution_count": 20,
   "metadata": {},
   "outputs": [
    {
     "data": {
      "text/html": [
       "<div>\n",
       "<style scoped>\n",
       "    .dataframe tbody tr th:only-of-type {\n",
       "        vertical-align: middle;\n",
       "    }\n",
       "\n",
       "    .dataframe tbody tr th {\n",
       "        vertical-align: top;\n",
       "    }\n",
       "\n",
       "    .dataframe thead th {\n",
       "        text-align: right;\n",
       "    }\n",
       "</style>\n",
       "<table border=\"1\" class=\"dataframe\">\n",
       "  <thead>\n",
       "    <tr style=\"text-align: right;\">\n",
       "      <th></th>\n",
       "      <th>month</th>\n",
       "      <th>rank_type</th>\n",
       "      <th>employee</th>\n",
       "      <th>score</th>\n",
       "    </tr>\n",
       "  </thead>\n",
       "  <tbody>\n",
       "    <tr>\n",
       "      <th>0</th>\n",
       "      <td>2010-01</td>\n",
       "      <td>top_positive</td>\n",
       "      <td>kayne.coulter@enron.com</td>\n",
       "      <td>13</td>\n",
       "    </tr>\n",
       "    <tr>\n",
       "      <th>1</th>\n",
       "      <td>2010-01</td>\n",
       "      <td>top_positive</td>\n",
       "      <td>eric.bass@enron.com</td>\n",
       "      <td>9</td>\n",
       "    </tr>\n",
       "    <tr>\n",
       "      <th>2</th>\n",
       "      <td>2010-01</td>\n",
       "      <td>top_positive</td>\n",
       "      <td>lydia.delgado@enron.com</td>\n",
       "      <td>9</td>\n",
       "    </tr>\n",
       "    <tr>\n",
       "      <th>3</th>\n",
       "      <td>2010-02</td>\n",
       "      <td>top_positive</td>\n",
       "      <td>john.arnold@enron.com</td>\n",
       "      <td>11</td>\n",
       "    </tr>\n",
       "    <tr>\n",
       "      <th>4</th>\n",
       "      <td>2010-02</td>\n",
       "      <td>top_positive</td>\n",
       "      <td>johnny.palmer@enron.com</td>\n",
       "      <td>10</td>\n",
       "    </tr>\n",
       "    <tr>\n",
       "      <th>5</th>\n",
       "      <td>2010-02</td>\n",
       "      <td>top_positive</td>\n",
       "      <td>bobette.riner@ipgdirect.com</td>\n",
       "      <td>7</td>\n",
       "    </tr>\n",
       "    <tr>\n",
       "      <th>6</th>\n",
       "      <td>2010-03</td>\n",
       "      <td>top_positive</td>\n",
       "      <td>sally.beck@enron.com</td>\n",
       "      <td>11</td>\n",
       "    </tr>\n",
       "    <tr>\n",
       "      <th>7</th>\n",
       "      <td>2010-03</td>\n",
       "      <td>top_positive</td>\n",
       "      <td>john.arnold@enron.com</td>\n",
       "      <td>7</td>\n",
       "    </tr>\n",
       "    <tr>\n",
       "      <th>8</th>\n",
       "      <td>2010-03</td>\n",
       "      <td>top_positive</td>\n",
       "      <td>bobette.riner@ipgdirect.com</td>\n",
       "      <td>6</td>\n",
       "    </tr>\n",
       "    <tr>\n",
       "      <th>9</th>\n",
       "      <td>2010-04</td>\n",
       "      <td>top_positive</td>\n",
       "      <td>don.baughman@enron.com</td>\n",
       "      <td>9</td>\n",
       "    </tr>\n",
       "    <tr>\n",
       "      <th>10</th>\n",
       "      <td>2010-04</td>\n",
       "      <td>top_positive</td>\n",
       "      <td>kayne.coulter@enron.com</td>\n",
       "      <td>9</td>\n",
       "    </tr>\n",
       "    <tr>\n",
       "      <th>11</th>\n",
       "      <td>2010-04</td>\n",
       "      <td>top_positive</td>\n",
       "      <td>john.arnold@enron.com</td>\n",
       "      <td>8</td>\n",
       "    </tr>\n",
       "  </tbody>\n",
       "</table>\n",
       "</div>"
      ],
      "text/plain": [
       "      month     rank_type                     employee  score\n",
       "0   2010-01  top_positive      kayne.coulter@enron.com     13\n",
       "1   2010-01  top_positive          eric.bass@enron.com      9\n",
       "2   2010-01  top_positive      lydia.delgado@enron.com      9\n",
       "3   2010-02  top_positive        john.arnold@enron.com     11\n",
       "4   2010-02  top_positive      johnny.palmer@enron.com     10\n",
       "5   2010-02  top_positive  bobette.riner@ipgdirect.com      7\n",
       "6   2010-03  top_positive         sally.beck@enron.com     11\n",
       "7   2010-03  top_positive        john.arnold@enron.com      7\n",
       "8   2010-03  top_positive  bobette.riner@ipgdirect.com      6\n",
       "9   2010-04  top_positive       don.baughman@enron.com      9\n",
       "10  2010-04  top_positive      kayne.coulter@enron.com      9\n",
       "11  2010-04  top_positive        john.arnold@enron.com      8"
      ]
     },
     "execution_count": 20,
     "metadata": {},
     "output_type": "execute_result"
    }
   ],
   "source": [
    "# Cell 7: ranking top 3 positive and top 3 negative per month\n",
    "top3_pos = []\n",
    "top3_neg = []\n",
    "for m, g in monthly_emp.groupby('month'):\n",
    "    pos = g.sort_values(['score', employee_col], ascending=[False, True]).head(3)\n",
    "    neg = g.sort_values(['score', employee_col], ascending=[True, True]).head(3)\n",
    "    top3_pos.append((m, pos))\n",
    "    top3_neg.append((m, neg))\n",
    "\n",
    "# create nicely formatted output\n",
    "rankings = []\n",
    "for m,pos in top3_pos:\n",
    "    for i, row in pos.iterrows():\n",
    "        rankings.append({'month': m, 'rank_type':'top_positive', 'employee': row[employee_col], 'score':row['score']})\n",
    "for m,neg in top3_neg:\n",
    "    for i, row in neg.iterrows():\n",
    "        rankings.append({'month': m, 'rank_type':'top_negative', 'employee': row[employee_col], 'score':row['score']})\n",
    "\n",
    "rank_df = pd.DataFrame(rankings)\n",
    "rank_df.to_csv('employee_rankings.csv', index=False)\n",
    "rank_df.head(12)\n"
   ]
  },
  {
   "cell_type": "markdown",
   "metadata": {},
   "source": [
    "Cell 8 — Flight risk identification (rolling 30-day negative message count)"
   ]
  },
  {
   "cell_type": "code",
   "execution_count": 21,
   "metadata": {},
   "outputs": [
    {
     "name": "stdout",
     "output_type": "stream",
     "text": [
      "Flight risk (unique employees): ['bobette.riner@ipgdirect.com', 'don.baughman@enron.com', 'johnny.palmer@enron.com', 'sally.beck@enron.com']\n"
     ]
    }
   ],
   "source": [
    "# Cell 8: flight risk - rolling 30 day negative message counts per employee\n",
    "df2 = df[[employee_col, date_col, 'sentiment', 'msg_len']].copy()\n",
    "df2['neg_flag'] = (df2['sentiment'] == 'Negative').astype(int)\n",
    "\n",
    "def compute_30d_rolling(df_in, emp_col, date_col):\n",
    "    rows = []\n",
    "    for emp, g in df_in.groupby(emp_col):\n",
    "        g = g.sort_values(date_col).set_index(date_col)\n",
    "        # rolling window over 30 days\n",
    "        g['neg_30d'] = g['neg_flag'].rolling('30D').sum().astype(int)\n",
    "        g = g.reset_index()\n",
    "        g[emp_col] = emp\n",
    "        rows.append(g)\n",
    "    return pd.concat(rows, ignore_index=True)\n",
    "\n",
    "df_rolled = compute_30d_rolling(df2, employee_col, date_col)\n",
    "df_rolled.to_csv('employee_30d_rolling_negative_counts.csv', index=False)\n",
    "\n",
    "# flight risk: any record where neg_30d >= 4 -> unique employees flagged\n",
    "flight_risks = df_rolled[df_rolled['neg_30d'] >= 4][employee_col].unique().tolist()\n",
    "print(\"Flight risk (unique employees):\", flight_risks)\n",
    "# Save list\n",
    "pd.DataFrame({'employee': flight_risks}).to_csv('flight_risks.csv', index=False)\n"
   ]
  },
  {
   "cell_type": "markdown",
   "metadata": {},
   "source": [
    "Cell 9 — Predictive modeling (linear regression for sentiment score)"
   ]
  },
  {
   "cell_type": "code",
   "execution_count": 11,
   "metadata": {},
   "outputs": [
    {
     "name": "stdout",
     "output_type": "stream",
     "text": [
      "MSE: 2.137330286709549e-28\n",
      "R2: 1.0\n",
      "         feature          coef\n",
      "2      pos_count  1.000000e+00\n",
      "0  message_count  8.247496e-16\n",
      "1        avg_len  1.387779e-16\n",
      "4  neutral_count  8.908637e-17\n",
      "3      neg_count -1.000000e+00\n"
     ]
    }
   ],
   "source": [
    "# Cell 9: linear regression to predict monthly sentiment score\n",
    "# use monthly_emp (employee-month aggregates)\n",
    "X = monthly_emp[['message_count','avg_len','pos_count','neg_count','neutral_count']].fillna(0)\n",
    "y = monthly_emp['score']\n",
    "\n",
    "X_train, X_test, y_train, y_test = train_test_split(X, y, test_size=0.2, random_state=42)\n",
    "\n",
    "model = LinearRegression()\n",
    "model.fit(X_train, y_train)\n",
    "\n",
    "y_pred = model.predict(X_test)\n",
    "print(\"MSE:\", mean_squared_error(y_test, y_pred))\n",
    "print(\"R2:\", r2_score(y_test, y_pred))\n",
    "\n",
    "# model coefficients\n",
    "coef_df = pd.DataFrame({'feature': X.columns, 'coef': model.coef_})\n",
    "coef_df = coef_df.sort_values('coef', ascending=False)\n",
    "print(coef_df)\n",
    "\n",
    "# Save model and metrics\n",
    "joblib.dump(model, 'sentiment_trend_lr_model.joblib')\n",
    "pd.DataFrame({'y_test': y_test, 'y_pred': y_pred}).to_csv('model_predictions.csv', index=False)\n"
   ]
  },
  {
   "cell_type": "markdown",
   "metadata": {},
   "source": [
    "Cell 10 — Save visuals & finish"
   ]
  },
  {
   "cell_type": "code",
   "execution_count": 12,
   "metadata": {},
   "outputs": [
    {
     "data": {
      "image/png": "[encoded data removed]",
      "text/plain": [
       "<Figure size 1000x400 with 1 Axes>"
      ]
     },
     "metadata": {},
     "output_type": "display_data"
    },
    {
     "name": "stdout",
     "output_type": "stream",
     "text": [
      "Files saved:\n",
      "- labeled_data.csv exists? True\n",
      "- monthly_employee_scores.csv exists? True\n",
      "- employee_rankings.csv exists? True\n",
      "- flight_risks.csv exists? True\n",
      "- sentiment_trend_lr_model.joblib exists? True\n"
     ]
    }
   ],
   "source": [
    "# Cell 10: create a summary plot of monthly average sentiment score\n",
    "monthly_score_ts = df.groupby('month')['score'].mean().reset_index()\n",
    "plt.figure(figsize=(10,4))\n",
    "sns.lineplot(data=monthly_score_ts, x='month', y='score', marker='o')\n",
    "plt.xticks(rotation=45)\n",
    "plt.title('Monthly average sentiment score')\n",
    "plt.savefig('visualizations/monthly_avg_sentiment.png', bbox_inches='tight')\n",
    "plt.show()\n",
    "\n",
    "print(\"Files saved:\")\n",
    "for f in ['labeled_data.csv', 'monthly_employee_scores.csv', 'employee_rankings.csv', 'flight_risks.csv', 'sentiment_trend_lr_model.joblib']:\n",
    "    print(\"-\", f, \"exists?\" , os.path.exists(f))\n"
   ]
  }
 ],
 "metadata": {
  "kernelspec": {
   "display_name": "base",
   "language": "python",
   "name": "python3"
  },
  "language_info": {
   "codemirror_mode": {
    "name": "ipython",
    "version": 3
   },
   "file_extension": ".py",
   "mimetype": "text/x-python",
   "name": "python",
   "nbconvert_exporter": "python",
   "pygments_lexer": "ipython3",
   "version": "3.12.4"
  }
 },
 "nbformat": 4,
 "nbformat_minor": 2
}
